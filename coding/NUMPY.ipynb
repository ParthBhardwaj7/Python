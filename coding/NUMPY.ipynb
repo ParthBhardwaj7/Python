{
 "cells": [
  {
   "cell_type": "markdown",
   "metadata": {},
   "source": [
    "#Numpy"
   ]
  },
  {
   "cell_type": "code",
   "execution_count": null,
   "metadata": {},
   "outputs": [
    {
     "name": "stdout",
     "output_type": "stream",
     "text": [
      "0.078125\n",
      "0.0\n"
     ]
    }
   ],
   "source": [
    "# Numerical Python\n",
    "# Advantages:\n",
    "# 1. allow several mathematical Operations\n",
    "# 2. Faster application\n",
    "from time import process_time\n",
    "a=[i for i in range(1000000)]\n",
    "start_time=process_time()\n",
    "a=[i+5 for i in a]\n",
    "end_time=process_time()\n",
    "print(end_time-start_time)\n",
    "\n"
   ]
  },
  {
   "cell_type": "code",
   "execution_count": 17,
   "metadata": {},
   "outputs": [
    {
     "name": "stdout",
     "output_type": "stream",
     "text": [
      "0.0\n"
     ]
    }
   ],
   "source": [
    "import numpy as np\n",
    "np_array=np.array([i for i in range(1000000)])\n",
    "start_time=process_time()\n",
    "np_array+=5\n",
    "end_time=process_time()\n",
    "print(end_time-start_time)"
   ]
  },
  {
   "cell_type": "code",
   "execution_count": 19,
   "metadata": {},
   "outputs": [
    {
     "name": "stdout",
     "output_type": "stream",
     "text": [
      "<class 'numpy.ndarray'>\n"
     ]
    }
   ],
   "source": [
    "print(type(np_array))"
   ]
  },
  {
   "cell_type": "code",
   "execution_count": 21,
   "metadata": {},
   "outputs": [
    {
     "data": {
      "text/plain": [
       "(1000000,)"
      ]
     },
     "execution_count": 21,
     "metadata": {},
     "output_type": "execute_result"
    }
   ],
   "source": [
    "np_array.shape"
   ]
  },
  {
   "cell_type": "code",
   "execution_count": 27,
   "metadata": {},
   "outputs": [
    {
     "name": "stdout",
     "output_type": "stream",
     "text": [
      "[[0. 0. 0. 0. 0.]\n",
      " [0. 0. 0. 0. 0.]\n",
      " [0. 0. 0. 0. 0.]\n",
      " [0. 0. 0. 0. 0.]\n",
      " [0. 0. 0. 0. 0.]]\n",
      "[[1. 1. 1.]\n",
      " [1. 1. 1.]]\n",
      "[[7 7 7]\n",
      " [7 7 7]\n",
      " [7 7 7]]\n",
      "[[32. 32. 32.]\n",
      " [32. 32. 32.]\n",
      " [32. 32. 32.]]\n"
     ]
    }
   ],
   "source": [
    "#Create anumpy aarray with zeros\n",
    "x=np.zeros((5,5))#to crate this you usr Np.zeros((fill shpe you have to give ))\n",
    "print(x)\n",
    "#TO Create array of ones\n",
    "x=np.ones((2,3))\n",
    "print(x)\n",
    "x=np.full((3,3),7)\n",
    "print(x)\n",
    "x=np.empty((3,3))\n",
    "x.fill(32)\n",
    "print(x)"
   ]
  },
  {
   "cell_type": "code",
   "execution_count": null,
   "metadata": {},
   "outputs": [
    {
     "name": "stdout",
     "output_type": "stream",
     "text": [
      "[[97 10 67]\n",
      " [88 96 68]\n",
      " [77 31 73]]\n"
     ]
    }
   ],
   "source": [
    "#Fill with random value\n",
    "import random\n",
    "a=np.random.randint(0,100,(3,3))\n",
    "print(a)\n"
   ]
  },
  {
   "cell_type": "code",
   "execution_count": 32,
   "metadata": {},
   "outputs": [
    {
     "name": "stdout",
     "output_type": "stream",
     "text": [
      "[[97 88 77]\n",
      " [10 96 31]\n",
      " [67 68 73]]\n"
     ]
    }
   ],
   "source": [
    "#Transpose\n",
    "a=np.transpose(a)\n",
    "print(a)"
   ]
  },
  {
   "cell_type": "code",
   "execution_count": null,
   "metadata": {},
   "outputs": [
    {
     "name": "stdout",
     "output_type": "stream",
     "text": [
      "[[97 88 77]\n",
      " [10 96 31]\n",
      " [67 68 73]]\n"
     ]
    }
   ],
   "source": [
    "b=a.reshape(3,3)\n",
    "print(b)"
   ]
  },
  {
   "cell_type": "code",
   "execution_count": 1,
   "metadata": {},
   "outputs": [
    {
     "name": "stdout",
     "output_type": "stream",
     "text": [
      "[10 32 43]\n"
     ]
    }
   ],
   "source": [
    "\n",
    "import numpy as np \n",
    "a=np.array([10,32,43])\n",
    "print(a)"
   ]
  },
  {
   "cell_type": "markdown",
   "metadata": {},
   "source": [
    "Basic arihmetic operation in numpy"
   ]
  },
  {
   "cell_type": "code",
   "execution_count": 2,
   "metadata": {},
   "outputs": [
    {
     "name": "stdout",
     "output_type": "stream",
     "text": [
      "[ 5 37 66  6]\n",
      "[ -1 -31  20   2]\n",
      "[  6 102 989   8]\n",
      "[0.66666667 0.08823529 1.86956522 2.        ]\n",
      "[                  8   16677181699666569 5694331190162838499\n",
      "                  16]\n"
     ]
    }
   ],
   "source": [
    "a=np.array([2,3,43,4])\n",
    "b=np.array([3,34,23,2])\n",
    "print(a+b)\n",
    "print(a-b)\n",
    "print(a*b)\n",
    "print(a/b)\n",
    "print(a**b)\n"
   ]
  },
  {
   "cell_type": "markdown",
   "metadata": {},
   "source": [
    "Aggregation function"
   ]
  },
  {
   "cell_type": "code",
   "execution_count": 3,
   "metadata": {},
   "outputs": [
    {
     "name": "stdout",
     "output_type": "stream",
     "text": [
      "58\n",
      "8.285714285714286\n",
      "3.0\n",
      "1\n",
      "43\n",
      "14.199741302616204\n",
      "201.63265306122452\n"
     ]
    }
   ],
   "source": [
    "a=np.array([2,3,4,1,2,3,43])\n",
    "print(np.sum(a))\n",
    "print(np.mean(a))\n",
    "print(np.median(a))\n",
    "print(np.min(a))\n",
    "print(np.max(a))#Max\n",
    "print(np.std(a))#Standard Deviation\n",
    "print(np.var(a))#Variance\n"
   ]
  },
  {
   "cell_type": "code",
   "execution_count": null,
   "metadata": {},
   "outputs": [
    {
     "name": "stdout",
     "output_type": "stream",
     "text": [
      "[[ 16  77]\n",
      " [ 26 127]]\n",
      "[[ 5. -3.]\n",
      " [-3.  2.]]\n",
      "0.9999999999999991\n",
      "0.9999999999999991\n",
      "EigResult(eigenvalues=array([0.14589803, 6.85410197]), eigenvectors=array([[-0.85065081, -0.52573111],\n",
      "       [ 0.52573111, -0.85065081]]))\n"
     ]
    }
   ],
   "source": [
    "a=np.array([[2,3],[3,5]])\n",
    "b=np.array([[2,4],[4,23]])\n",
    "print(np.dot(a,b))\n",
    "print(np.linalg.inv(a))\n",
    "print(np.linalg.det(a))\n",
    "print(np.linalg.eig(a))\n"
   ]
  },
  {
   "cell_type": "markdown",
   "metadata": {},
   "source": [
    "Trignometric Values"
   ]
  },
  {
   "cell_type": "code",
   "execution_count": 9,
   "metadata": {},
   "outputs": [
    {
     "name": "stdout",
     "output_type": "stream",
     "text": [
      "[0.         0.84147098 0.90929743]\n",
      "[ 1.          0.54030231 -0.41614684]\n",
      "[ 0.          1.55740772 -2.18503986]\n"
     ]
    }
   ],
   "source": [
    "a=np.array([0,1,2])\n",
    "print(np.sin(a))\n",
    "print(np.cos(a))\n",
    "print(np.tan(a))"
   ]
  },
  {
   "cell_type": "code",
   "execution_count": 10,
   "metadata": {},
   "outputs": [
    {
     "name": "stdout",
     "output_type": "stream",
     "text": [
      "[2. 3. 3.]\n",
      "[2. 3. 3.]\n",
      "[2. 4. 4.]\n"
     ]
    }
   ],
   "source": [
    "a=np.array([2,3.2,3.34])\n",
    "print(np.round(a))\n",
    "print(np.floor(a))\n",
    "print(np.ceil(a))"
   ]
  },
  {
   "cell_type": "code",
   "execution_count": 12,
   "metadata": {},
   "outputs": [
    {
     "name": "stdout",
     "output_type": "stream",
     "text": [
      "13.0\n",
      "1.0\n"
     ]
    }
   ],
   "source": [
    "#stastical Function\n",
    "a=np.array([2,3,43,23])\n",
    "print(np.percentile(a,50))\n",
    "print(np.corrcoef(a))\n"
   ]
  },
  {
   "cell_type": "code",
   "execution_count": null,
   "metadata": {},
   "outputs": [],
   "source": []
  }
 ],
 "metadata": {
  "kernelspec": {
   "display_name": "myenv",
   "language": "python",
   "name": "python3"
  },
  "language_info": {
   "codemirror_mode": {
    "name": "ipython",
    "version": 3
   },
   "file_extension": ".py",
   "mimetype": "text/x-python",
   "name": "python",
   "nbconvert_exporter": "python",
   "pygments_lexer": "ipython3",
   "version": "3.13.1"
  }
 },
 "nbformat": 4,
 "nbformat_minor": 2
}
